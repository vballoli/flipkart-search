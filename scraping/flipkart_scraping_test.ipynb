{
 "cells": [
  {
   "cell_type": "code",
   "execution_count": 40,
   "metadata": {},
   "outputs": [],
   "source": [
    "from bs4 import BeautifulSoup\n",
    "from requests import get\n",
    "from time import sleep\n",
    "import asyncio\n",
    "import aiohttp\n",
    "import async_timeout"
   ]
  },
  {
   "cell_type": "code",
   "execution_count": 16,
   "metadata": {},
   "outputs": [],
   "source": [
    "base_url = \"https://www.flipkart.com\"\n",
    "begin_url = \"https://www.flipkart.com/search?q=mobile&sid=tyy/4io&as=on&as-show=on&marketplace=FLIPKART&otracker=AS_QueryStore_OrganicAutosuggest_1_5&otracker1=AS_QueryStore_OrganicAutosuggest_1_5&as-pos=1&as-type=Top&as-backfill=on\""
   ]
  },
  {
   "cell_type": "code",
   "execution_count": 17,
   "metadata": {},
   "outputs": [],
   "source": [
    "search = get(begin_url)"
   ]
  },
  {
   "cell_type": "code",
   "execution_count": 18,
   "metadata": {},
   "outputs": [],
   "source": [
    "soup = BeautifulSoup(search.content, \"lxml\")\n",
    "data = soup.find_all(\"a\", {\"class\":\"_31qSD5\"})\n",
    "data = list(data)\n"
   ]
  },
  {
   "cell_type": "code",
   "execution_count": 19,
   "metadata": {},
   "outputs": [
    {
     "name": "stdout",
     "output_type": "stream",
     "text": [
      "/redmi-note-5-pro-black-64-gb/p/itmf2fc3xgmxnhpx?pid=MOBF28FTQPHUPX83&srno=s_1_1&otracker=AS_QueryStore_OrganicAutosuggest_1_5&lid=LSTMOBF28FTQPHUPX83BUJJ2C&fm=organic&iid=978519ec-62df-45de-85e6-cf0c8546ca65.MOBF28FTQPHUPX83.SEARCH&qH=532c28d5412dd75b\n",
      "/asus-zenfone-max-pro-m1-black-64-gb/p/itmf79gxwfs6yt8m?pid=MOBF4UQ9NSFFMH7Z&srno=s_1_2&otracker=AS_QueryStore_OrganicAutosuggest_1_5&lid=LSTMOBF4UQ9NSFFMH7ZYQWLHK&fm=organic&iid=e439f19c-3391-4fe5-9869-59433dd00904.MOBF4UQ9NSFFMH7Z.SEARCH&qH=532c28d5412dd75b\n",
      "/nokia-6-1-plus-blue-64-gb/p/itmf8r36g9gfpafg?pid=MOBF8FCFZJRRWHKG&srno=s_1_3&otracker=AS_QueryStore_OrganicAutosuggest_1_5&lid=LSTMOBF8FCFZJRRWHKGOZVYBX&fm=organic&iid=399b00da-eba7-46db-b20f-8ee53114e519.MOBF8FCFZJRRWHKG.SEARCH&qH=532c28d5412dd75b\n",
      "/samsung-galaxy-on6-blue-64-gb/p/itmf6m35ffwuqwdn?pid=MOBF6FZ4R9QNKKY9&srno=s_1_4&otracker=AS_QueryStore_OrganicAutosuggest_1_5&lid=LSTMOBF6FZ4R9QNKKY9ZKWIB6&fm=organic&iid=REQ3300d9d0ef074c47a921797c9a035977_1&qH=532c28d5412dd75b\n",
      "/nokia-6-1-plus-white-64-gb/p/itmf8r36g9gfpafg?pid=MOBF8FCFCBD2KYJB&srno=s_1_5&otracker=AS_QueryStore_OrganicAutosuggest_1_5&lid=LSTMOBF8FCFCBD2KYJB8WZ1X8&fm=organic&iid=1595daa0-1cad-4958-a682-cc13c0a71646.MOBF8FCFCBD2KYJB.SEARCH&qH=532c28d5412dd75b\n",
      "/nokia-6-1-plus-black-64-gb/p/itmf8r36g9gfpafg?pid=MOBF8FCFB9KWUTVQ&srno=s_1_6&otracker=AS_QueryStore_OrganicAutosuggest_1_5&lid=LSTMOBF8FCFB9KWUTVQTCPQ5B&fm=organic&iid=6add38ed-9fcd-4b0a-8e72-75bf6bea0158.MOBF8FCFB9KWUTVQ.SEARCH&qH=532c28d5412dd75b\n",
      "/asus-zenfone-max-pro-m1-grey-64-gb/p/itmf79gxzkfg7tqk?pid=MOBF4UQ9KTEQKQZE&srno=s_1_7&otracker=AS_QueryStore_OrganicAutosuggest_1_5&lid=LSTMOBF4UQ9KTEQKQZEGMRMUJ&fm=organic&iid=b1d15785-1b2d-420e-9851-41602ebaaee1.MOBF4UQ9KTEQKQZE.SEARCH&qH=532c28d5412dd75b\n",
      "/redmi-note-5-pro-blue-64-gb/p/itmf3qstwujazqsp?pid=MOBF2BSGFKFKVQMC&srno=s_1_8&otracker=AS_QueryStore_OrganicAutosuggest_1_5&lid=LSTMOBF2BSGFKFKVQMCXSHTC8&fm=organic&iid=03dddf22-0b3f-4e36-9f4e-8effe3a6168b.MOBF2BSGFKFKVQMC.SEARCH&qH=532c28d5412dd75b\n",
      "/redmi-note-5-pro-gold-64-gb/p/itmf2fc3txmqwdkb?pid=MOBF28FTHZYYGXFY&srno=s_1_9&otracker=AS_QueryStore_OrganicAutosuggest_1_5&lid=LSTMOBF28FTHZYYGXFYWCJUUS&fm=organic&iid=3ee0c940-d275-41bf-a6a6-3625998a08c5.MOBF28FTHZYYGXFY.SEARCH&qH=532c28d5412dd75b\n",
      "/honor-7a-black-32-gb/p/itmf3t8c3bunbspx?pid=MOBF3T87KDNMX3GF&srno=s_1_10&otracker=AS_QueryStore_OrganicAutosuggest_1_5&lid=LSTMOBF3T87KDNMX3GFEA9WIK&fm=organic&iid=2f5536ca-d49c-4089-94f5-f06f66ebe5aa.MOBF3T87KDNMX3GF.SEARCH&qH=532c28d5412dd75b\n",
      "/honor-7a-blue-32-gb/p/itmf3t8c3bunbspx?pid=MOBF3T87HMFBVGHX&srno=s_1_11&otracker=AS_QueryStore_OrganicAutosuggest_1_5&lid=LSTMOBF3T87HMFBVGHXG7UMUP&fm=organic&iid=0e15d74e-81a2-4855-b12e-d92eee536f92.MOBF3T87HMFBVGHX.SEARCH&qH=532c28d5412dd75b\n",
      "/honor-7a-gold-32-gb/p/itmf3t8c3bunbspx?pid=MOBF3T87G3JWH667&srno=s_1_12&otracker=AS_QueryStore_OrganicAutosuggest_1_5&lid=LSTMOBF3T87G3JWH667E0EF8U&fm=organic&iid=3ab9ba74-c920-4b03-b19f-4ee89d4cf8d6.MOBF3T87G3JWH667.SEARCH&qH=532c28d5412dd75b\n",
      "/samsung-galaxy-on8-black-64-gb/p/itmf7f86s94awfjd?pid=MOBF7F86UGKQXQCE&srno=s_1_14&otracker=AS_QueryStore_OrganicAutosuggest_1_5&lid=LSTMOBF7F86UGKQXQCEUVMETI&fm=organic&iid=REQ3300d9d0ef074c47a921797c9a035977_2&qH=532c28d5412dd75b\n",
      "/asus-zenfone-max-pro-m1-black-32-gb/p/itmf4hg44xkefz58?pid=MOBF3A8U6T35DUBP&srno=s_1_14&otracker=AS_QueryStore_OrganicAutosuggest_1_5&lid=LSTMOBF3A8U6T35DUBPKZKQ1J&fm=organic&iid=4e8f2439-ab84-4b8c-aed0-88aa2b32e1c1.MOBF3A8U6T35DUBP.SEARCH&qH=532c28d5412dd75b\n",
      "/redmi-note-5-pro-black-64-gb/p/itmf2fc3qjzftfch?pid=MOBF28FTKDWY5EHE&srno=s_1_15&otracker=AS_QueryStore_OrganicAutosuggest_1_5&lid=LSTMOBF28FTKDWY5EHEWLTAYU&fm=organic&iid=874d5a99-0118-4b9f-a33c-322231812329.MOBF28FTKDWY5EHE.SEARCH&qH=532c28d5412dd75b\n",
      "/asus-zenfone-max-pro-m1-black-64-gb/p/itmf4hg4uuegxgnr?pid=MOBF3A8UZEZFHKXF&srno=s_1_16&otracker=AS_QueryStore_OrganicAutosuggest_1_5&lid=LSTMOBF3A8UZEZFHKXFDMZH9B&fm=organic&iid=ed16c34e-d666-4395-86c0-205a02a6bd93.MOBF3A8UZEZFHKXF.SEARCH&qH=532c28d5412dd75b\n",
      "/honor-9n-sapphire-blue-32-gb/p/itmf6narxrc26cgg?pid=MOBF6NAR36DUGTAG&srno=s_1_17&otracker=AS_QueryStore_OrganicAutosuggest_1_5&lid=LSTMOBF6NAR36DUGTAGMDQLXY&fm=organic&iid=14ef1519-64cf-4b5d-9cdb-b7c27fbe98b8.MOBF6NAR36DUGTAG.SEARCH&qH=532c28d5412dd75b\n",
      "/honor-9n-sapphire-blue-64-gb/p/itmf6narxrc26cgg?pid=MOBF6NARU2TTTXBG&srno=s_1_18&otracker=AS_QueryStore_OrganicAutosuggest_1_5&lid=LSTMOBF6NARU2TTTXBG35MWZK&fm=organic&iid=a89bc295-b002-4689-b31d-6d6ad6a79226.MOBF6NARU2TTTXBG.SEARCH&qH=532c28d5412dd75b\n",
      "/honor-9n-midnight-black-32-gb/p/itmf6narxrc26cgg?pid=MOBF6NARV3GCYNYA&srno=s_1_19&otracker=AS_QueryStore_OrganicAutosuggest_1_5&lid=LSTMOBF6NARV3GCYNYA7DQRLX&fm=organic&iid=2de93a58-caf2-451e-a41c-9289c70c0e17.MOBF6NARV3GCYNYA.SEARCH&qH=532c28d5412dd75b\n",
      "/samsung-galaxy-on8-blue-64-gb/p/itmf7f86ngzhftpm?pid=MOBF7F86HGYUV8EZ&srno=s_1_20&otracker=AS_QueryStore_OrganicAutosuggest_1_5&lid=LSTMOBF7F86HGYUV8EZQFMAC0&fm=organic&iid=REQ3300d9d0ef074c47a921797c9a035977_3&qH=532c28d5412dd75b\n",
      "/honor-9n-midnight-black-64-gb/p/itmf6narxrc26cgg?pid=MOBF6NARF4GYZXG9&srno=s_1_21&otracker=AS_QueryStore_OrganicAutosuggest_1_5&lid=LSTMOBF6NARF4GYZXG9XF6YYF&fm=organic&iid=687e52e9-2abf-44d1-bbcf-65397eb73f2b.MOBF6NARF4GYZXG9.SEARCH&qH=532c28d5412dd75b\n",
      "/honor-9n-sapphire-blue-128-gb/p/itmf6narxrc26cgg?pid=MOBF6NARCJHKAJDG&srno=s_1_22&otracker=AS_QueryStore_OrganicAutosuggest_1_5&lid=LSTMOBF6NARCJHKAJDG4YXS7T&fm=organic&iid=2aab7829-225e-4686-8ed2-2d4e2ac4bc6f.MOBF6NARCJHKAJDG.SEARCH&qH=532c28d5412dd75b\n",
      "/honor-9n-midnight-black-128-gb/p/itmf6narxrc26cgg?pid=MOBF6NARRFGSJDME&srno=s_1_23&otracker=AS_QueryStore_OrganicAutosuggest_1_5&lid=LSTMOBF6NARRFGSJDME0IKF86&fm=organic&iid=d5e9d0ec-00de-4ac5-8c3f-a9f89c404510.MOBF6NARRFGSJDME.SEARCH&qH=532c28d5412dd75b\n",
      "/samsung-galaxy-on6-black-64-gb/p/itmf6m35fhyqhtzv?pid=MOBF6FZ4QMNCA48H&srno=s_1_24&otracker=AS_QueryStore_OrganicAutosuggest_1_5&lid=LSTMOBF6FZ4QMNCA48H4UVXKS&fm=organic&iid=REQ3300d9d0ef074c47a921797c9a035977_4&qH=532c28d5412dd75b\n",
      "24\n"
     ]
    }
   ],
   "source": [
    "i = 0\n",
    "for item in data:\n",
    "    i = i+ 1\n",
    "    print(item.get(\"href\"))\n",
    "print(i)"
   ]
  },
  {
   "cell_type": "code",
   "execution_count": 41,
   "metadata": {},
   "outputs": [
    {
     "name": "stdout",
     "output_type": "stream",
     "text": [
      "/search?q=mobile&sid=tyy%2F4io&as=on&as-show=on&marketplace=FLIPKART&otracker=AS_QueryStore_OrganicAutosuggest_1_5&otracker1=AS_QueryStore_OrganicAutosuggest_1_5&as-pos=1&as-type=Top&as-backfill=on&page=\n"
     ]
    }
   ],
   "source": [
    "page_class = \"_2Xp0TH\"\n",
    "page_data = soup.find_all(\"a\", {\"class\":page_class})\n",
    "page_data = list(page_data)\n",
    "page_hrefs = []\n",
    "for page in page_data:\n",
    "    page_hrefs.append(page.get(\"href\"))\n",
    "page_href_base = page_hrefs[0][:len(page_hrefs[0]) -1]\n",
    "print(page_href_base)\n",
    "product_urls = []"
   ]
  },
  {
   "cell_type": "code",
   "execution_count": 46,
   "metadata": {},
   "outputs": [],
   "source": [
    "def get_product_endpoints(page_endpoint):\n",
    "    href_class = \"_31qSD5\"\n",
    "    url = base_url + page_endpoint;\n",
    "    search = get(url)\n",
    "    sleep(2)\n",
    "    soup = BeautifulSoup(search.content, \"lxml\")\n",
    "    href_containers = soup.find_all(\"a\", {\"class\":href_class})\n",
    "    product_hrefs = []\n",
    "    for i in href_containers:\n",
    "        product_hrefs.append(i.get(\"href\"))\n",
    "    return product_hrefs"
   ]
  },
  {
   "cell_type": "code",
   "execution_count": null,
   "metadata": {},
   "outputs": [],
   "source": [
    "product_urls = []\n",
    "for i in range(411):\n",
    "    product_urls.append(get_product_endpoints(page_href_base + str(i)))\n",
    "print(len(product_urls))"
   ]
  },
  {
   "cell_type": "code",
   "execution_count": 24,
   "metadata": {},
   "outputs": [
    {
     "data": {
      "text/plain": [
       "'/search?q=mobile&sid=tyy%2F4io&as=on&as-show=on&marketplace=FLIPKART&otracker=AS_QueryStore_OrganicAutosuggest_1_5&otracker1=AS_QueryStore_OrganicAutosuggest_1_5&as-pos=1&as-type=Top&as-backfill=on&page=2'"
      ]
     },
     "execution_count": 24,
     "metadata": {},
     "output_type": "execute_result"
    }
   ],
   "source": [
    "page_hrefs[1]"
   ]
  },
  {
   "cell_type": "code",
   "execution_count": null,
   "metadata": {},
   "outputs": [],
   "source": [
    "page_hrefs[2]"
   ]
  },
  {
   "cell_type": "code",
   "execution_count": null,
   "metadata": {},
   "outputs": [],
   "source": [
    "try_product = product_urls[0][0]\n",
    "product_search = get(base_url + try_product)\n",
    "product_soup = BeautifulSoup(product_search.content, \"lxml\")\n",
    "product_data = product_soup.find(\"div\", {\"class\":\"col _39LH-M\"})"
   ]
  },
  {
   "cell_type": "code",
   "execution_count": null,
   "metadata": {},
   "outputs": [],
   "source": [
    "div_ratings_class = \"hGSR34 _2beYZw\"\n",
    "div_review_stars = \"hGSR34 _2beYZw E_uFuv\"\n",
    "p_review_title_class = \"_2xg6Ul\"\n",
    "div_review_content_class = \"qwjRop\"\n",
    "span_product_title_class = \"_35KyD6\"\n",
    "div_product_price_class = \"_1vC4OE _3qQ9m1\""
   ]
  },
  {
   "cell_type": "code",
   "execution_count": null,
   "metadata": {},
   "outputs": [],
   "source": [
    "review_url = list(product_data.find_all(\"a\"))[len(list(product_data.find_all(\"a\"))) - 1].get(\"href\")\n",
    "review_search = get(base_url + str(review_url))\n",
    "print(base_url + str(review_url))\n",
    "review_soup = BeautifulSoup(review_search.content, \"lxml\")\n",
    "review_titles = product_soup.findAll(\"p\", {\"class\":p_review_title_class})\n",
    "review_contents = product_soup.findAll(\"div\", {\"class\": div_review_content_class})\n",
    "review_ratings = product_soup.findAll(\"div\", {\"class\": div_review_stars})\n",
    "print(len(review_data))"
   ]
  },
  {
   "cell_type": "code",
   "execution_count": null,
   "metadata": {},
   "outputs": [],
   "source": []
  },
  {
   "cell_type": "code",
   "execution_count": 32,
   "metadata": {},
   "outputs": [],
   "source": []
  },
  {
   "cell_type": "code",
   "execution_count": null,
   "metadata": {},
   "outputs": [],
   "source": []
  }
 ],
 "metadata": {
  "kernelspec": {
   "display_name": "Python 3",
   "language": "python",
   "name": "python3"
  },
  "language_info": {
   "codemirror_mode": {
    "name": "ipython",
    "version": 3
   },
   "file_extension": ".py",
   "mimetype": "text/x-python",
   "name": "python",
   "nbconvert_exporter": "python",
   "pygments_lexer": "ipython3",
   "version": "3.6.4"
  }
 },
 "nbformat": 4,
 "nbformat_minor": 2
}
